{
 "cells": [
  {
   "source": [
    "<h1>作業目標</h1>\n",
    "1.讀取各種檔案格式\n",
    "\n",
    "2.輸出各種檔案格式"
   ],
   "cell_type": "markdown",
   "metadata": {}
  },
  {
   "source": [
    "題目:\n",
    "讀取資料夾中boston.csv讀取其欄位CHAS、NOX、RM，輸出成.xlsx檔案"
   ],
   "cell_type": "markdown",
   "metadata": {}
  },
  {
   "cell_type": "code",
   "execution_count": 3,
   "metadata": {},
   "outputs": [],
   "source": [
    "import pandas as pd\n",
    "\n",
    "#讀取資料夾中boston.csv讀取其欄位CHAS、NOX、RM，輸出成.xlsx檔案\n",
    "df=pd.read_csv('boston.csv', usecols=['CHAS','NOX','RM'])\n",
    "df.to_excel('Output.xlsx')"
   ]
  },
  {
   "cell_type": "markdown",
   "metadata": {
    "colab_type": "text",
    "id": "P6xk2_jLsvFF"
   },
   "source": [
    "# [作業目標]\n",
    "\n",
    "\n",
    "1. [簡答題] 比較下列兩個讀入的 df 有什麼不同？為什麼造成的？\n",
    "\n",
    "2. 請將 Dcard API 取得所有的看板資訊轉換成 DataFrame，並且依照熱門程度排序後存成一個 csv 的檔案。\n",
    "\n",
    "\n"
   ]
  },
  {
   "cell_type": "markdown",
   "metadata": {
    "colab_type": "text",
    "id": "uXGll28asvFS"
   },
   "source": [
    "# 作業 "
   ]
  },
  {
   "cell_type": "code",
   "execution_count": 4,
   "metadata": {},
   "outputs": [],
   "source": [
    "# 記得先 Import 正確的套件\n",
    "\n",
    "'''\n",
    "Your Code\n",
    "'''\n",
    "import pandas as pd"
   ]
  },
  {
   "cell_type": "markdown",
   "metadata": {},
   "source": [
    "### 1. [簡答題] 比較下列兩個讀入的 df 有什麼不同？為什麼造成的？\n"
   ]
  },
  {
   "source": [
    "ANS: \n",
    "\n",
    "1. 針對值為 '--' 及 'na' 設為 NaN\n",
    "\n",
    "2. na_values=['na', '--']"
   ],
   "cell_type": "markdown",
   "metadata": {}
  },
  {
   "cell_type": "code",
   "execution_count": 5,
   "metadata": {
    "colab": {},
    "colab_type": "code",
    "id": "5QrYoyNWsvFS"
   },
   "outputs": [
    {
     "output_type": "execute_result",
     "data": {
      "text/plain": [
       "           PID  ST_NUM     ST_NAME OWN_OCCUPIED NUM_BEDROOMS NUM_BATH SQ_FT\n",
       "0  100001000.0   104.0      PUTNAM            Y            3        1  1000\n",
       "1  100002000.0   197.0   LEXINGTON            N            3      1.5    --\n",
       "2  100003000.0     NaN   LEXINGTON            N          NaN        1   850\n",
       "3  100004000.0   201.0    BERKELEY           12            1      NaN   700\n",
       "4          NaN   203.0    BERKELEY            Y            3        2  1600\n",
       "5  100006000.0   207.0    BERKELEY            Y          NaN        1   800\n",
       "6  100007000.0     NaN  WASHINGTON          NaN            2   HURLEY   950\n",
       "7  100008000.0   213.0     TREMONT            Y            1        1   NaN\n",
       "8  100009000.0   215.0     TREMONT            Y           na        2  1800"
      ],
      "text/html": "<div>\n<style scoped>\n    .dataframe tbody tr th:only-of-type {\n        vertical-align: middle;\n    }\n\n    .dataframe tbody tr th {\n        vertical-align: top;\n    }\n\n    .dataframe thead th {\n        text-align: right;\n    }\n</style>\n<table border=\"1\" class=\"dataframe\">\n  <thead>\n    <tr style=\"text-align: right;\">\n      <th></th>\n      <th>PID</th>\n      <th>ST_NUM</th>\n      <th>ST_NAME</th>\n      <th>OWN_OCCUPIED</th>\n      <th>NUM_BEDROOMS</th>\n      <th>NUM_BATH</th>\n      <th>SQ_FT</th>\n    </tr>\n  </thead>\n  <tbody>\n    <tr>\n      <th>0</th>\n      <td>100001000.0</td>\n      <td>104.0</td>\n      <td>PUTNAM</td>\n      <td>Y</td>\n      <td>3</td>\n      <td>1</td>\n      <td>1000</td>\n    </tr>\n    <tr>\n      <th>1</th>\n      <td>100002000.0</td>\n      <td>197.0</td>\n      <td>LEXINGTON</td>\n      <td>N</td>\n      <td>3</td>\n      <td>1.5</td>\n      <td>--</td>\n    </tr>\n    <tr>\n      <th>2</th>\n      <td>100003000.0</td>\n      <td>NaN</td>\n      <td>LEXINGTON</td>\n      <td>N</td>\n      <td>NaN</td>\n      <td>1</td>\n      <td>850</td>\n    </tr>\n    <tr>\n      <th>3</th>\n      <td>100004000.0</td>\n      <td>201.0</td>\n      <td>BERKELEY</td>\n      <td>12</td>\n      <td>1</td>\n      <td>NaN</td>\n      <td>700</td>\n    </tr>\n    <tr>\n      <th>4</th>\n      <td>NaN</td>\n      <td>203.0</td>\n      <td>BERKELEY</td>\n      <td>Y</td>\n      <td>3</td>\n      <td>2</td>\n      <td>1600</td>\n    </tr>\n    <tr>\n      <th>5</th>\n      <td>100006000.0</td>\n      <td>207.0</td>\n      <td>BERKELEY</td>\n      <td>Y</td>\n      <td>NaN</td>\n      <td>1</td>\n      <td>800</td>\n    </tr>\n    <tr>\n      <th>6</th>\n      <td>100007000.0</td>\n      <td>NaN</td>\n      <td>WASHINGTON</td>\n      <td>NaN</td>\n      <td>2</td>\n      <td>HURLEY</td>\n      <td>950</td>\n    </tr>\n    <tr>\n      <th>7</th>\n      <td>100008000.0</td>\n      <td>213.0</td>\n      <td>TREMONT</td>\n      <td>Y</td>\n      <td>1</td>\n      <td>1</td>\n      <td>NaN</td>\n    </tr>\n    <tr>\n      <th>8</th>\n      <td>100009000.0</td>\n      <td>215.0</td>\n      <td>TREMONT</td>\n      <td>Y</td>\n      <td>na</td>\n      <td>2</td>\n      <td>1800</td>\n    </tr>\n  </tbody>\n</table>\n</div>"
     },
     "metadata": {},
     "execution_count": 5
    }
   ],
   "source": [
    "df1 = pd.read_csv('https://raw.githubusercontent.com/dataoptimal/posts/master/data%20cleaning%20with%20python%20and%20pandas/property%20data.csv')\n",
    "df1"
   ]
  },
  {
   "cell_type": "code",
   "execution_count": 6,
   "metadata": {},
   "outputs": [
    {
     "output_type": "execute_result",
     "data": {
      "text/plain": [
       "           PID  ST_NUM     ST_NAME OWN_OCCUPIED  NUM_BEDROOMS NUM_BATH   SQ_FT\n",
       "0  100001000.0   104.0      PUTNAM            Y           3.0        1  1000.0\n",
       "1  100002000.0   197.0   LEXINGTON            N           3.0      1.5     NaN\n",
       "2  100003000.0     NaN   LEXINGTON            N           NaN        1   850.0\n",
       "3  100004000.0   201.0    BERKELEY           12           1.0      NaN   700.0\n",
       "4          NaN   203.0    BERKELEY            Y           3.0        2  1600.0\n",
       "5  100006000.0   207.0    BERKELEY            Y           NaN        1   800.0\n",
       "6  100007000.0     NaN  WASHINGTON          NaN           2.0   HURLEY   950.0\n",
       "7  100008000.0   213.0     TREMONT            Y           1.0        1     NaN\n",
       "8  100009000.0   215.0     TREMONT            Y           NaN        2  1800.0"
      ],
      "text/html": "<div>\n<style scoped>\n    .dataframe tbody tr th:only-of-type {\n        vertical-align: middle;\n    }\n\n    .dataframe tbody tr th {\n        vertical-align: top;\n    }\n\n    .dataframe thead th {\n        text-align: right;\n    }\n</style>\n<table border=\"1\" class=\"dataframe\">\n  <thead>\n    <tr style=\"text-align: right;\">\n      <th></th>\n      <th>PID</th>\n      <th>ST_NUM</th>\n      <th>ST_NAME</th>\n      <th>OWN_OCCUPIED</th>\n      <th>NUM_BEDROOMS</th>\n      <th>NUM_BATH</th>\n      <th>SQ_FT</th>\n    </tr>\n  </thead>\n  <tbody>\n    <tr>\n      <th>0</th>\n      <td>100001000.0</td>\n      <td>104.0</td>\n      <td>PUTNAM</td>\n      <td>Y</td>\n      <td>3.0</td>\n      <td>1</td>\n      <td>1000.0</td>\n    </tr>\n    <tr>\n      <th>1</th>\n      <td>100002000.0</td>\n      <td>197.0</td>\n      <td>LEXINGTON</td>\n      <td>N</td>\n      <td>3.0</td>\n      <td>1.5</td>\n      <td>NaN</td>\n    </tr>\n    <tr>\n      <th>2</th>\n      <td>100003000.0</td>\n      <td>NaN</td>\n      <td>LEXINGTON</td>\n      <td>N</td>\n      <td>NaN</td>\n      <td>1</td>\n      <td>850.0</td>\n    </tr>\n    <tr>\n      <th>3</th>\n      <td>100004000.0</td>\n      <td>201.0</td>\n      <td>BERKELEY</td>\n      <td>12</td>\n      <td>1.0</td>\n      <td>NaN</td>\n      <td>700.0</td>\n    </tr>\n    <tr>\n      <th>4</th>\n      <td>NaN</td>\n      <td>203.0</td>\n      <td>BERKELEY</td>\n      <td>Y</td>\n      <td>3.0</td>\n      <td>2</td>\n      <td>1600.0</td>\n    </tr>\n    <tr>\n      <th>5</th>\n      <td>100006000.0</td>\n      <td>207.0</td>\n      <td>BERKELEY</td>\n      <td>Y</td>\n      <td>NaN</td>\n      <td>1</td>\n      <td>800.0</td>\n    </tr>\n    <tr>\n      <th>6</th>\n      <td>100007000.0</td>\n      <td>NaN</td>\n      <td>WASHINGTON</td>\n      <td>NaN</td>\n      <td>2.0</td>\n      <td>HURLEY</td>\n      <td>950.0</td>\n    </tr>\n    <tr>\n      <th>7</th>\n      <td>100008000.0</td>\n      <td>213.0</td>\n      <td>TREMONT</td>\n      <td>Y</td>\n      <td>1.0</td>\n      <td>1</td>\n      <td>NaN</td>\n    </tr>\n    <tr>\n      <th>8</th>\n      <td>100009000.0</td>\n      <td>215.0</td>\n      <td>TREMONT</td>\n      <td>Y</td>\n      <td>NaN</td>\n      <td>2</td>\n      <td>1800.0</td>\n    </tr>\n  </tbody>\n</table>\n</div>"
     },
     "metadata": {},
     "execution_count": 6
    }
   ],
   "source": [
    "df2 = pd.read_csv(\n",
    "    'https://raw.githubusercontent.com/dataoptimal/posts/master/data%20cleaning%20with%20python%20and%20pandas/property%20data.csv',\n",
    "    keep_default_na=True,\n",
    "    na_values=['na', '--']\n",
    ")\n",
    "df2"
   ]
  },
  {
   "cell_type": "markdown",
   "metadata": {},
   "source": [
    "### 2. 請將 Dcard API 取得所有的看板資訊轉換成 DataFrame，並且依照熱門程度排序後存成一個 csv 的檔案。\n"
   ]
  },
  {
   "cell_type": "code",
   "execution_count": 22,
   "metadata": {
    "tags": []
   },
   "outputs": [],
   "source": [
    "import requests\n",
    "r = requests.get('https://www.dcard.tw/_api/forums')\n",
    "response = r.text\n",
    "\n",
    "import json\n",
    "data = json.loads(response)\n"
   ]
  },
  {
   "cell_type": "code",
   "execution_count": 27,
   "metadata": {},
   "outputs": [],
   "source": [
    "'''\n",
    "Your Code\n",
    "'''\n",
    "df=pd.json_normalize(data)\n",
    "df.sort_values('subscriptionCount', ascending=False).to_csv('dcard.csv')"
   ]
  },
  {
   "cell_type": "code",
   "execution_count": null,
   "metadata": {},
   "outputs": [],
   "source": []
  }
 ],
 "metadata": {
  "colab": {
   "name": "Day_023_HW.ipynb",
   "provenance": []
  },
  "kernelspec": {
   "name": "python383jvsc74a57bd0ae9d98088b09996d751584704d4859e6c7df3eb0229f9b220e014cf88d1c479d",
   "display_name": "Python 3.8.3 32-bit"
  },
  "language_info": {
   "codemirror_mode": {
    "name": "ipython",
    "version": 3
   },
   "file_extension": ".py",
   "mimetype": "text/x-python",
   "name": "python",
   "nbconvert_exporter": "python",
   "pygments_lexer": "ipython3",
   "version": "3.8.3-final"
  },
  "metadata": {
   "interpreter": {
    "hash": "ae9d98088b09996d751584704d4859e6c7df3eb0229f9b220e014cf88d1c479d"
   }
  }
 },
 "nbformat": 4,
 "nbformat_minor": 1
}