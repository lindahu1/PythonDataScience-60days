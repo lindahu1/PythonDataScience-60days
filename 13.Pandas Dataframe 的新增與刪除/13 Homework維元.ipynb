{
 "cells": [
  {
   "cell_type": "markdown",
   "metadata": {
    "colab_type": "text",
    "id": "P6xk2_jLsvFF"
   },
   "source": [
    "# [作業目標]\n",
    "\n",
    "\n",
    "1. 請接下列資料依照指定規則做合併：\n",
    "\n",
    "```\n",
    "- 依照 fruit 欄位做合併\n",
    "- 依照 index 索引做合併\n",
    "```\n",
    "\n",
    "2. [簡答題] 承上題，請問為什麼依照 merge 合併後有些資料不見了？\n",
    "\n",
    "3. [簡答題] 承上題，請問為什麼依照 index 合併會發生錯誤？請用程式解決。"
   ]
  },
  {
   "cell_type": "markdown",
   "metadata": {
    "colab_type": "text",
    "id": "uXGll28asvFS"
   },
   "source": [
    "# 作業 "
   ]
  },
  {
   "cell_type": "code",
   "execution_count": 1,
   "metadata": {},
   "outputs": [],
   "source": [
    "# 記得先 Import 正確的套件\n",
    "\n",
    "'''\n",
    "Your Code\n",
    "'''\n",
    "import pandas as pd\n",
    "import numpy as np"
   ]
  },
  {
   "cell_type": "markdown",
   "metadata": {},
   "source": [
    "### 1. 請接下列資料依照指定規則做合併：\n",
    "\n",
    "```\n",
    "- 依照 fruit 欄位做合併\n",
    "- 依照 index 索引做合併\n",
    "```\n"
   ]
  },
  {
   "cell_type": "code",
   "execution_count": 51,
   "metadata": {
    "colab": {},
    "colab_type": "code",
    "id": "5QrYoyNWsvFS"
   },
   "outputs": [
    {
     "output_type": "stream",
     "name": "stdout",
     "text": [
      "    fruit  weight  price\n0   apple    high      7\n1  banana  medium      0\n2  orange     low      4\n3   apple    high     13\n4  banana  medium      3\n5  orange     low      3\n6   apple    high     10\n7  banana  medium      4\n8  orange     low      3\n    fruit weight  price\n0   apple   high      3\n1  orange    low      5\n2    pine   high      4\n3   apple    low     14\n4  orange   high      3\n5    pine    low     13\n"
     ]
    }
   ],
   "source": [
    "df1 = pd.DataFrame({\n",
    "    'fruit': ['apple', 'banana', 'orange'] * 3,\n",
    "    'weight': ['high', 'medium', 'low'] * 3,\n",
    "    'price': np.random.randint(0, 15, 9)\n",
    "})\n",
    "\n",
    "df2 = pd.DataFrame({\n",
    "    'fruit': ['apple', 'orange', 'pine'] * 2,\n",
    "    'weight': ['high', 'low'] * 3,\n",
    "    'price': np.random.randint(0, 15, 6)\n",
    "})\n",
    "print(df1)\n",
    "print(df2)"
   ]
  },
  {
   "cell_type": "code",
   "execution_count": 59,
   "metadata": {},
   "outputs": [
    {
     "output_type": "execute_result",
     "data": {
      "text/plain": [
       "     fruit weight_x  price_x weight_y  price_y\n",
       "0    apple     high        7     high        3\n",
       "1    apple     high        7      low       14\n",
       "2    apple     high       13     high        3\n",
       "3    apple     high       13      low       14\n",
       "4    apple     high       10     high        3\n",
       "5    apple     high       10      low       14\n",
       "6   orange      low        4      low        5\n",
       "7   orange      low        4     high        3\n",
       "8   orange      low        3      low        5\n",
       "9   orange      low        3     high        3\n",
       "10  orange      low        3      low        5\n",
       "11  orange      low        3     high        3"
      ],
      "text/html": "<div>\n<style scoped>\n    .dataframe tbody tr th:only-of-type {\n        vertical-align: middle;\n    }\n\n    .dataframe tbody tr th {\n        vertical-align: top;\n    }\n\n    .dataframe thead th {\n        text-align: right;\n    }\n</style>\n<table border=\"1\" class=\"dataframe\">\n  <thead>\n    <tr style=\"text-align: right;\">\n      <th></th>\n      <th>fruit</th>\n      <th>weight_x</th>\n      <th>price_x</th>\n      <th>weight_y</th>\n      <th>price_y</th>\n    </tr>\n  </thead>\n  <tbody>\n    <tr>\n      <th>0</th>\n      <td>apple</td>\n      <td>high</td>\n      <td>7</td>\n      <td>high</td>\n      <td>3</td>\n    </tr>\n    <tr>\n      <th>1</th>\n      <td>apple</td>\n      <td>high</td>\n      <td>7</td>\n      <td>low</td>\n      <td>14</td>\n    </tr>\n    <tr>\n      <th>2</th>\n      <td>apple</td>\n      <td>high</td>\n      <td>13</td>\n      <td>high</td>\n      <td>3</td>\n    </tr>\n    <tr>\n      <th>3</th>\n      <td>apple</td>\n      <td>high</td>\n      <td>13</td>\n      <td>low</td>\n      <td>14</td>\n    </tr>\n    <tr>\n      <th>4</th>\n      <td>apple</td>\n      <td>high</td>\n      <td>10</td>\n      <td>high</td>\n      <td>3</td>\n    </tr>\n    <tr>\n      <th>5</th>\n      <td>apple</td>\n      <td>high</td>\n      <td>10</td>\n      <td>low</td>\n      <td>14</td>\n    </tr>\n    <tr>\n      <th>6</th>\n      <td>orange</td>\n      <td>low</td>\n      <td>4</td>\n      <td>low</td>\n      <td>5</td>\n    </tr>\n    <tr>\n      <th>7</th>\n      <td>orange</td>\n      <td>low</td>\n      <td>4</td>\n      <td>high</td>\n      <td>3</td>\n    </tr>\n    <tr>\n      <th>8</th>\n      <td>orange</td>\n      <td>low</td>\n      <td>3</td>\n      <td>low</td>\n      <td>5</td>\n    </tr>\n    <tr>\n      <th>9</th>\n      <td>orange</td>\n      <td>low</td>\n      <td>3</td>\n      <td>high</td>\n      <td>3</td>\n    </tr>\n    <tr>\n      <th>10</th>\n      <td>orange</td>\n      <td>low</td>\n      <td>3</td>\n      <td>low</td>\n      <td>5</td>\n    </tr>\n    <tr>\n      <th>11</th>\n      <td>orange</td>\n      <td>low</td>\n      <td>3</td>\n      <td>high</td>\n      <td>3</td>\n    </tr>\n  </tbody>\n</table>\n</div>"
     },
     "metadata": {},
     "execution_count": 59
    }
   ],
   "source": [
    "# - 依照 fruit 欄位做合併\n",
    "\n",
    "'''\n",
    "Your Code\n",
    "'''\n",
    "pd.merge(df1, df2, on='fruit')"
   ]
  },
  {
   "cell_type": "code",
   "execution_count": 60,
   "metadata": {},
   "outputs": [
    {
     "output_type": "execute_result",
     "data": {
      "text/plain": [
       "  fruit_df1 weight_df1  price_df1 fruit_df2 weight_df2  price_df2\n",
       "0     apple       high          7     apple       high          3\n",
       "1    banana     medium          0    orange        low          5\n",
       "2    orange        low          4      pine       high          4\n",
       "3     apple       high         13     apple        low         14\n",
       "4    banana     medium          3    orange       high          3\n",
       "5    orange        low          3      pine        low         13"
      ],
      "text/html": "<div>\n<style scoped>\n    .dataframe tbody tr th:only-of-type {\n        vertical-align: middle;\n    }\n\n    .dataframe tbody tr th {\n        vertical-align: top;\n    }\n\n    .dataframe thead th {\n        text-align: right;\n    }\n</style>\n<table border=\"1\" class=\"dataframe\">\n  <thead>\n    <tr style=\"text-align: right;\">\n      <th></th>\n      <th>fruit_df1</th>\n      <th>weight_df1</th>\n      <th>price_df1</th>\n      <th>fruit_df2</th>\n      <th>weight_df2</th>\n      <th>price_df2</th>\n    </tr>\n  </thead>\n  <tbody>\n    <tr>\n      <th>0</th>\n      <td>apple</td>\n      <td>high</td>\n      <td>7</td>\n      <td>apple</td>\n      <td>high</td>\n      <td>3</td>\n    </tr>\n    <tr>\n      <th>1</th>\n      <td>banana</td>\n      <td>medium</td>\n      <td>0</td>\n      <td>orange</td>\n      <td>low</td>\n      <td>5</td>\n    </tr>\n    <tr>\n      <th>2</th>\n      <td>orange</td>\n      <td>low</td>\n      <td>4</td>\n      <td>pine</td>\n      <td>high</td>\n      <td>4</td>\n    </tr>\n    <tr>\n      <th>3</th>\n      <td>apple</td>\n      <td>high</td>\n      <td>13</td>\n      <td>apple</td>\n      <td>low</td>\n      <td>14</td>\n    </tr>\n    <tr>\n      <th>4</th>\n      <td>banana</td>\n      <td>medium</td>\n      <td>3</td>\n      <td>orange</td>\n      <td>high</td>\n      <td>3</td>\n    </tr>\n    <tr>\n      <th>5</th>\n      <td>orange</td>\n      <td>low</td>\n      <td>3</td>\n      <td>pine</td>\n      <td>low</td>\n      <td>13</td>\n    </tr>\n  </tbody>\n</table>\n</div>"
     },
     "metadata": {},
     "execution_count": 60
    }
   ],
   "source": [
    "# - 依照 index 索引做合併\n",
    "\n",
    "'''\n",
    "Your Code\n",
    "'''\n",
    "df1.join(df2, how='inner', lsuffix=\"_df1\",rsuffix=\"_df2\")"
   ]
  },
  {
   "cell_type": "markdown",
   "metadata": {},
   "source": [
    "### 2. [簡答題] 承上題，請問為什麼依照 merge 合併後有些資料不見了？\n"
   ]
  },
  {
   "cell_type": "code",
   "execution_count": 63,
   "metadata": {},
   "outputs": [
    {
     "output_type": "stream",
     "name": "stdout",
     "text": [
      "df1: 9\ndf2: 6\ndf1 筆數 == df2 筆數: False 所以造成有些資料不見\n"
     ]
    }
   ],
   "source": [
    "'''\n",
    "Your Code\n",
    "'''\n",
    "print('df1:',len(df1))\n",
    "print('df2:',len(df2))\n",
    "print('df1 筆數 == df2 筆數:', len(df1)==len(df2), \"所以造成有些資料不見\")"
   ]
  },
  {
   "cell_type": "markdown",
   "metadata": {},
   "source": [
    "### 3. [簡答題] 承上題，請問為什麼依照 index 合併會發生錯誤？請用程式解決。"
   ]
  },
  {
   "cell_type": "code",
   "execution_count": 58,
   "metadata": {},
   "outputs": [
    {
     "output_type": "execute_result",
     "data": {
      "text/plain": [
       "  fruit_df1 weight_df1  price_df1 fruit_df2 weight_df2  price_df2\n",
       "0     apple       high          7     apple       high        3.0\n",
       "1    banana     medium          0    orange        low        5.0\n",
       "2    orange        low          4      pine       high        4.0\n",
       "3     apple       high         13     apple        low       14.0\n",
       "4    banana     medium          3    orange       high        3.0\n",
       "5    orange        low          3      pine        low       13.0\n",
       "6     apple       high         10       NaN        NaN        NaN\n",
       "7    banana     medium          4       NaN        NaN        NaN\n",
       "8    orange        low          3       NaN        NaN        NaN"
      ],
      "text/html": "<div>\n<style scoped>\n    .dataframe tbody tr th:only-of-type {\n        vertical-align: middle;\n    }\n\n    .dataframe tbody tr th {\n        vertical-align: top;\n    }\n\n    .dataframe thead th {\n        text-align: right;\n    }\n</style>\n<table border=\"1\" class=\"dataframe\">\n  <thead>\n    <tr style=\"text-align: right;\">\n      <th></th>\n      <th>fruit_df1</th>\n      <th>weight_df1</th>\n      <th>price_df1</th>\n      <th>fruit_df2</th>\n      <th>weight_df2</th>\n      <th>price_df2</th>\n    </tr>\n  </thead>\n  <tbody>\n    <tr>\n      <th>0</th>\n      <td>apple</td>\n      <td>high</td>\n      <td>7</td>\n      <td>apple</td>\n      <td>high</td>\n      <td>3.0</td>\n    </tr>\n    <tr>\n      <th>1</th>\n      <td>banana</td>\n      <td>medium</td>\n      <td>0</td>\n      <td>orange</td>\n      <td>low</td>\n      <td>5.0</td>\n    </tr>\n    <tr>\n      <th>2</th>\n      <td>orange</td>\n      <td>low</td>\n      <td>4</td>\n      <td>pine</td>\n      <td>high</td>\n      <td>4.0</td>\n    </tr>\n    <tr>\n      <th>3</th>\n      <td>apple</td>\n      <td>high</td>\n      <td>13</td>\n      <td>apple</td>\n      <td>low</td>\n      <td>14.0</td>\n    </tr>\n    <tr>\n      <th>4</th>\n      <td>banana</td>\n      <td>medium</td>\n      <td>3</td>\n      <td>orange</td>\n      <td>high</td>\n      <td>3.0</td>\n    </tr>\n    <tr>\n      <th>5</th>\n      <td>orange</td>\n      <td>low</td>\n      <td>3</td>\n      <td>pine</td>\n      <td>low</td>\n      <td>13.0</td>\n    </tr>\n    <tr>\n      <th>6</th>\n      <td>apple</td>\n      <td>high</td>\n      <td>10</td>\n      <td>NaN</td>\n      <td>NaN</td>\n      <td>NaN</td>\n    </tr>\n    <tr>\n      <th>7</th>\n      <td>banana</td>\n      <td>medium</td>\n      <td>4</td>\n      <td>NaN</td>\n      <td>NaN</td>\n      <td>NaN</td>\n    </tr>\n    <tr>\n      <th>8</th>\n      <td>orange</td>\n      <td>low</td>\n      <td>3</td>\n      <td>NaN</td>\n      <td>NaN</td>\n      <td>NaN</td>\n    </tr>\n  </tbody>\n</table>\n</div>"
     },
     "metadata": {},
     "execution_count": 58
    }
   ],
   "source": [
    "'''\n",
    "Your Code\n",
    "'''\n",
    "df1.join(df2, lsuffix=\"_df1\",rsuffix=\"_df2\", how='outer')"
   ]
  },
  {
   "cell_type": "code",
   "execution_count": null,
   "metadata": {},
   "outputs": [],
   "source": []
  },
  {
   "cell_type": "code",
   "execution_count": null,
   "metadata": {},
   "outputs": [],
   "source": []
  }
 ],
 "metadata": {
  "colab": {
   "name": "Day_023_HW.ipynb",
   "provenance": []
  },
  "kernelspec": {
   "name": "python383jvsc74a57bd0ae9d98088b09996d751584704d4859e6c7df3eb0229f9b220e014cf88d1c479d",
   "display_name": "Python 3.8.3 32-bit"
  },
  "language_info": {
   "codemirror_mode": {
    "name": "ipython",
    "version": 3
   },
   "file_extension": ".py",
   "mimetype": "text/x-python",
   "name": "python",
   "nbconvert_exporter": "python",
   "pygments_lexer": "ipython3",
   "version": "3.8.3-final"
  },
  "metadata": {
   "interpreter": {
    "hash": "ae9d98088b09996d751584704d4859e6c7df3eb0229f9b220e014cf88d1c479d"
   }
  }
 },
 "nbformat": 4,
 "nbformat_minor": 1
}